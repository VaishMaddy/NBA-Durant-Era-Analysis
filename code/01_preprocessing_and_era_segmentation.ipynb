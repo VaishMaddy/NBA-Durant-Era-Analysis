{
  "nbformat": 4,
  "nbformat_minor": 0,
  "metadata": {
    "colab": {
      "provenance": []
    },
    "kernelspec": {
      "name": "python3",
      "display_name": "Python 3"
    },
    "language_info": {
      "name": "python"
    }
  },
  "cells": [
    {
      "cell_type": "markdown",
      "source": [
        "# **NBA Play-by-Play Preprocessing: Durant Era Impact**\n",
        "\n",
        "This notebook prepares NBA play-by-play data for downstream analysis of team behavior during different phases of Kevin Durant's career.\n",
        "\n",
        "## **What this notebook does**\n",
        "- Loads play-by-play data from 11 NBA seasons (2013–2024)\n",
        "- Combines all seasons into a single DataFrame\n",
        "- Optimizes data types to reduce memory usage\n",
        "- Converts date and time columns for proper filtering and analysis\n",
        "- Segments the data into three career eras:\n",
        "  - Pre-GSW Era (before July 7, 2016)\n",
        "  - GSW Era (July 7, 2016 to July 7, 2019)\n",
        "  - Post-GSW Era (after July 7, 2019)\n",
        "- Filters for OKC and GSW games during each era\n",
        "- Displays basic statistics to verify correct filtering\n",
        "\n",
        "## **Purpose**\n",
        "This preprocessing sets up the data for comparing how OKC and GSW team behavior shifted before, during, and after Durant's time with the Warriors.\n"
      ],
      "metadata": {
        "id": "PbhzJ3uefeko"
      }
    },
    {
      "cell_type": "markdown",
      "source": [
        "**SECTION 1: DATA LOADING AND PREPARATION**\n",
        "\n",
        "This section loads NBA play-by-play data from multiple seasons\n",
        "and prepares it for analysis\n"
      ],
      "metadata": {
        "id": "KyU-weBdsknN"
      }
    },
    {
      "cell_type": "code",
      "execution_count": null,
      "metadata": {
        "colab": {
          "base_uri": "https://localhost:8080/"
        },
        "id": "jQgem1wEr5RE",
        "outputId": "26389b01-a0ab-4651-e880-18a8a9aeb042"
      },
      "outputs": [
        {
          "output_type": "stream",
          "name": "stdout",
          "text": [
            "Mounted at /content/drive\n",
            "Loading 2013-2014_NBA_PbP_Logs.csv...\n",
            "Loading 2014-2015_NBA_PbP_Logs.csv...\n",
            "Loading 2015-2016_NBA_PbP_Logs.csv...\n",
            "Loading 2016-2017_NBA_PbP_Logs.csv...\n",
            "Loading 2017-2018_NBA_PbP_Logs.csv...\n",
            "Loading 2018-2019_NBA_PbP_Logs.csv...\n",
            "Loading 2019-2020_NBA_PbP_Logs.csv...\n",
            "Loading 2020-2021_NBA_PbP_Logs.csv...\n",
            "Loading 2021-2022_NBA_PbP_Logs.csv...\n",
            "Loading 2022-2023_NBA_PbP_Logs.csv...\n",
            "Loading 2023-2024_NBA_PbP_Logs.csv...\n",
            "<class 'pandas.core.frame.DataFrame'>\n",
            "RangeIndex: 6553006 entries, 0 to 6553005\n",
            "Data columns (total 47 columns):\n",
            " #   Column          Dtype  \n",
            "---  ------          -----  \n",
            " 0   game_id         int64  \n",
            " 1   data_set        object \n",
            " 2   date            object \n",
            " 3   a1              object \n",
            " 4   a2              object \n",
            " 5   a3              object \n",
            " 6   a4              object \n",
            " 7   a5              object \n",
            " 8   h1              object \n",
            " 9   h2              object \n",
            " 10  h3              object \n",
            " 11  h4              object \n",
            " 12  h5              object \n",
            " 13  period          int64  \n",
            " 14  away_score      int64  \n",
            " 15  home_score      int64  \n",
            " 16  remaining_time  object \n",
            " 17  elapsed         object \n",
            " 18  play_length     object \n",
            " 19  play_id         int64  \n",
            " 20  team            object \n",
            " 21  event_type      object \n",
            " 22  assist          object \n",
            " 23  away            object \n",
            " 24  home            object \n",
            " 25  block           object \n",
            " 26  entered         object \n",
            " 27  left            object \n",
            " 28  num             float64\n",
            " 29  opponent        object \n",
            " 30  outof           float64\n",
            " 31  player          object \n",
            " 32  points          float64\n",
            " 33  possession      object \n",
            " 34  reason          object \n",
            " 35  result          object \n",
            " 36  steal           object \n",
            " 37  type            object \n",
            " 38  shot_distance   float64\n",
            " 39  original_x      float64\n",
            " 40  original_y      float64\n",
            " 41  converted_x     float64\n",
            " 42  converted_y     float64\n",
            " 43  description     object \n",
            " 44  matchup         object \n",
            " 45  game_name       object \n",
            " 46  season          object \n",
            "dtypes: float64(8), int64(5), object(34)\n",
            "memory usage: 2.3+ GB\n"
          ]
        }
      ],
      "source": [
        "from google.colab import drive\n",
        "drive.mount('/content/drive')\n",
        "\n",
        "import pandas as pd\n",
        "import os\n",
        "\n",
        "# Base path to your Google Drive folder\n",
        "base_path = \"/content/drive/MyDrive/NBA Data/Combined Files [With Game ID]/\"\n",
        "\n",
        "# List of file names by season\n",
        "seasons = [\n",
        "    \"2013-2014\", \"2014-2015\", \"2015-2016\", \"2016-2017\", \"2017-2018\",\n",
        "    \"2018-2019\", \"2019-2020\", \"2020-2021\", \"2021-2022\", \"2022-2023\", \"2023-2024\"\n",
        "]\n",
        "\n",
        "# Combine them into one DataFrame\n",
        "all_data = pd.DataFrame()\n",
        "\n",
        "for season in seasons:\n",
        "    file_name = f\"{season}_NBA_PbP_Logs.csv\"\n",
        "    full_path = os.path.join(base_path, file_name)\n",
        "\n",
        "    print(f\"Loading {file_name}...\")\n",
        "    df = pd.read_csv(full_path)\n",
        "    df['season'] = season  # Track what season each row is from\n",
        "    all_data = pd.concat([all_data, df], ignore_index=True)\n",
        "\n",
        "# Display basic information about the dataset\n",
        "all_data.info()\n"
      ]
    },
    {
      "cell_type": "markdown",
      "source": [
        "**SECTION 2: DATA TYPE OPTIMIZATION**\n",
        "\n",
        "Converting columns to appropriate data types to improve performance and reduce memory usage"
      ],
      "metadata": {
        "id": "jm9P0wRhtLgY"
      }
    },
    {
      "cell_type": "code",
      "source": [
        "# Convert date to datetime format for better filtering\n",
        "all_data['date'] = pd.to_datetime(all_data['date'], errors='coerce')\n",
        "\n",
        "# Convert time columns to timedelta for accurate time calculations\n",
        "time_cols = ['remaining_time', 'elapsed', 'play_length']\n",
        "for col in time_cols:\n",
        "    all_data[col] = pd.to_timedelta(all_data[col], errors='coerce')\n",
        "\n",
        "# Convert text columns with limited unique values to category type to save memory\n",
        "category_cols = [\n",
        "    'data_set', 'season', 'team', 'event_type', 'type', 'player', 'assist', 'block',\n",
        "    'steal', 'entered', 'left', 'reason', 'result', 'possession', 'a1', 'a2', 'a3', 'a4', 'a5',\n",
        "    'h1', 'h2', 'h3', 'h4', 'h5', 'home', 'away', 'opponent'\n",
        "]\n",
        "\n",
        "for col in category_cols:\n",
        "    all_data[col] = all_data[col].astype('category')"
      ],
      "metadata": {
        "id": "OocHY2mElHGC"
      },
      "execution_count": null,
      "outputs": []
    },
    {
      "cell_type": "markdown",
      "source": [
        "**SECTION 3: DURANT CAREER ERA ANALYSIS FUNCTION**\n",
        "\n",
        "This function divides the data into three periods based on Durant's career moves and filters for OKC and GSW games"
      ],
      "metadata": {
        "id": "n99zg2YxtgBA"
      }
    },
    {
      "cell_type": "code",
      "source": [
        "def analyze_durant_impact(all_data):\n",
        "    \"\"\"\n",
        "    Filter OKC and GSW games across Durant's career eras\n",
        "    Returns dictionaries with filtered dataframes\n",
        "    \"\"\"\n",
        "    # 1. Time-based era division\n",
        "    pre_warriors_era = all_data[all_data['date'] < '2016-07-07']        # Durant on OKC\n",
        "    warriors_era = all_data[(all_data['date'] >= '2016-07-07') &\n",
        "                          (all_data['date'] < '2019-07-07')]             # Durant on GSW\n",
        "    post_warriors_era = all_data[all_data['date'] >= '2019-07-07']      # Durant on BKN/PHX\n",
        "\n",
        "    # 2. Function to filter team games\n",
        "    def filter_team_games(df, team_code):\n",
        "        return df[\n",
        "            df['matchup'].str.contains(f'{team_code}@', na=False) |\n",
        "            df['matchup'].str.contains(f'@{team_code}', na=False)\n",
        "        ]\n",
        "\n",
        "    # 3. Filter for each team in each era\n",
        "    # OKC games across eras\n",
        "    okc_pre_durant_leave = filter_team_games(pre_warriors_era, 'OKC')\n",
        "    okc_durant_gsw_era = filter_team_games(warriors_era, 'OKC')\n",
        "    okc_post_durant = filter_team_games(post_warriors_era, 'OKC')\n",
        "\n",
        "    # GSW games across eras\n",
        "    gsw_pre_durant = filter_team_games(pre_warriors_era, 'GSW')\n",
        "    gsw_durant_era = filter_team_games(warriors_era, 'GSW')\n",
        "    gsw_post_durant = filter_team_games(post_warriors_era, 'GSW')\n",
        "\n",
        "    return {\n",
        "        'okc_pre': okc_pre_durant_leave,\n",
        "        'okc_during': okc_durant_gsw_era,\n",
        "        'okc_post': okc_post_durant,\n",
        "        'gsw_pre': gsw_pre_durant,\n",
        "        'gsw_during': gsw_durant_era,\n",
        "        'gsw_post': gsw_post_durant\n",
        "    }"
      ],
      "metadata": {
        "id": "llbmAIhas6Mp",
        "collapsed": true
      },
      "execution_count": null,
      "outputs": []
    },
    {
      "cell_type": "code",
      "source": [
        "# Call the analysis function to get the filtered dataframes\n",
        "results = analyze_durant_impact(all_data)\n",
        "\n",
        "# Print the number of games in each filtered dataset\n",
        "print(\"OKC Games by Era:\")\n",
        "print(f\"Pre-Durant leaving OKC: {results['okc_pre']['game_id'].nunique()} games\")\n",
        "print(f\"During Durant's GSW era: {results['okc_during']['game_id'].nunique()} games\")\n",
        "print(f\"Post-Durant GSW era: {results['okc_post']['game_id'].nunique()} games\")\n",
        "\n",
        "print(\"\\nGSW Games by Era:\")\n",
        "print(f\"Pre-Durant joining GSW: {results['gsw_pre']['game_id'].nunique()} games\")\n",
        "print(f\"With Durant: {results['gsw_during']['game_id'].nunique()} games\")\n",
        "print(f\"Post-Durant: {results['gsw_post']['game_id'].nunique()} games\")\n",
        "\n",
        "# Show sample matchups to verify correct filtering\n",
        "print(\"\\nSample matchups for OKC pre-Durant leaving:\")\n",
        "print(results['okc_pre']['matchup'].unique()[:5])  # First 5 matchups\n",
        "\n",
        "print(\"\\nSample matchups for GSW pre-Durant:\")\n",
        "print(results['gsw_pre']['matchup'].unique()[:5])  # First 5 matchups\n",
        "\n",
        "# Print the total number of plays in each dataset\n",
        "print(\"\\nTotal plays in each dataset:\")\n",
        "for key, df in results.items():\n",
        "    print(f\"{key}: {len(df)} plays\")"
      ],
      "metadata": {
        "colab": {
          "base_uri": "https://localhost:8080/"
        },
        "id": "dtqqD31ytrei",
        "outputId": "f3b38726-d8bb-4193-8416-1114c7ec38b4"
      },
      "execution_count": null,
      "outputs": [
        {
          "output_type": "stream",
          "name": "stdout",
          "text": [
            "OKC Games by Era:\n",
            "Pre-Durant leaving OKC: 283 games\n",
            "During Durant's GSW era: 262 games\n",
            "Post-Durant GSW era: 409 games\n",
            "\n",
            "GSW Games by Era:\n",
            "Pre-Durant joining GSW: 298 games\n",
            "With Durant: 306 games\n",
            "Post-Durant: 421 games\n",
            "\n",
            "Sample matchups for OKC pre-Durant leaving:\n",
            "['LAL@OKC' 'ORL@OKC' 'OKC@DEN' 'CHI@OKC' 'OKC@SAS']\n",
            "\n",
            "Sample matchups for GSW pre-Durant:\n",
            "['DAL@GSW' 'HOU@GSW' 'GSW@PHX' 'NOP@GSW' 'SAS@GSW']\n",
            "\n",
            "Total plays in each dataset:\n",
            "okc_pre: 132409 plays\n",
            "okc_during: 125256 plays\n",
            "okc_post: 192389 plays\n",
            "gsw_pre: 138984 plays\n",
            "gsw_during: 142432 plays\n",
            "gsw_post: 198561 plays\n"
          ]
        }
      ]
    }
  ]
}